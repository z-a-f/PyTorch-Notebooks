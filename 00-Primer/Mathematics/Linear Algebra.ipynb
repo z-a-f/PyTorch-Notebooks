{
 "cells": [
  {
   "cell_type": "code",
   "execution_count": 1,
   "metadata": {},
   "outputs": [],
   "source": [
    "%load_ext autoreload\n",
    "%autoreload 2\n",
    "%matplotlib inline\n",
    "\n",
    "import matplotlib as mpl\n",
    "import matplotlib.pyplot as plt\n",
    "import numpy as np"
   ]
  },
  {
   "cell_type": "markdown",
   "metadata": {},
   "source": [
    "# LinearAlgebra\n",
    "\n",
    "In this section we will use the following notation:\n",
    "\n",
    "- Lower case, greek letters for numerical values (depends on the context). For example, $\\alpha$, $\\beta$, etc.\n",
    "- Lower case, normal weight letters for values or variables. For example, $a$, $b$, $x$, etc.\n",
    "- Lower case, bold weight letters for vectors. For example, ${\\bf a}$, ${\\bf b}$, ${\\bf x}$, etc.\n",
    "- Upper case, bold weight letters for matrices. For example, ${\\bf A}$, ${\\bf B}$, ${\\bf X}$, etc."
   ]
  },
  {
   "cell_type": "markdown",
   "metadata": {},
   "source": [
    "## 1. Vector Algebra\n",
    "\n",
    "Let ${\\bf x}$ denote the $n$-dimensional vector.\n",
    "To be more specific, let a *column* vector looks like that:\n",
    "$$\n",
    "{\\bf x}_\\text{column} =\n",
    "\\begin{pmatrix}\n",
    "x_1 \\\\\n",
    "x_2 \\\\\n",
    "\\vdots \\\\\n",
    "x_n\n",
    "\\end{pmatrix}\n",
    "$$\n",
    "\n",
    "Also, we can define a *row* vector:\n",
    "$$\n",
    "{\\bf x}_\\text{row} =\n",
    "\\begin{pmatrix}\n",
    "x_1 &\n",
    "x_2 &\n",
    "\\dots &\n",
    "x_n\n",
    "\\end{pmatrix}\n",
    "$$\n",
    "\n",
    "To convert from row vector to column vector and back, we can use a **transpose** operation, denoted as a superscript $T$:\n",
    "$$\n",
    "\\begin{align}\n",
    "{\\bf x}_\\text{row}^T &= {\\bf x}_\\text{column} \\\\\n",
    "{\\bf x}_\\text{column}^T &= {\\bf x}_\\text{row} \\\\\n",
    "\\end{align}\n",
    "$$\n",
    "\n",
    "**Note:** As a general rule, when you see a vector denoted as ${\\bf x}$ it usually implies a **column** vector, while ${\\bf x}^T$ would represent a **row** vector.\n",
    "However, sometimes I use them interchangeably (my bad), and whether it's row or column will often depend on the context.\n",
    "\n",
    "A vector with all elements equal to 1 is usually written as ${\\bf 1}$, and if all its elements equal to 0, it is denoted as ${\\bf 0}$:\n",
    "$$\n",
    "\\begin{align}\n",
    "{\\bf 0}^T &= \\begin{pmatrix} 0 & 0 & 0 & 0 & \\dots & 0 \\end{pmatrix} \\\\\n",
    "{\\bf 1}^T &= \\begin{pmatrix} 1 & 1 & 1 & 1 & \\dots & 1 \\end{pmatrix}\n",
    "\\end{align}\n",
    "$$"
   ]
  },
  {
   "cell_type": "markdown",
   "metadata": {},
   "source": [
    "In `numpy` you can create a row vector using"
   ]
  },
  {
   "cell_type": "code",
   "execution_count": 2,
   "metadata": {},
   "outputs": [
    {
     "name": "stdout",
     "output_type": "stream",
     "text": [
      "The column vector x is:\n",
      "[[0 1 2 3]]\n"
     ]
    }
   ],
   "source": [
    "x = np.array([\n",
    "    [0, 1, 2, 3]\n",
    "])\n",
    "print(f'The column vector x is:\\n{x}')"
   ]
  },
  {
   "cell_type": "markdown",
   "metadata": {},
   "source": [
    "Notice that we use `[[]]` to make the array 2-dimensional. That allows use to use **transpose**. In `numpy` transpose is simply `.T`. To create a column vector:"
   ]
  },
  {
   "cell_type": "code",
   "execution_count": 3,
   "metadata": {
    "scrolled": true
   },
   "outputs": [
    {
     "name": "stdout",
     "output_type": "stream",
     "text": [
      "The column vector (x transpose)is:\n",
      "[[0]\n",
      " [1]\n",
      " [2]\n",
      " [3]]\n"
     ]
    }
   ],
   "source": [
    "x_transpose = x.T\n",
    "print(f'The column vector (x transpose)is:\\n{x_transpose}')"
   ]
  },
  {
   "cell_type": "markdown",
   "metadata": {},
   "source": [
    "**What do _vectors_ mean?**\n",
    "\n",
    "Vector is a line that has a direction and starts at the origin<sup>$\\dagger$</sup>.\n",
    "Every number in the vector represents the length of the dagger in this particular direction.\n",
    "For example, vectors ${\\bf v_1} = (1.1, -2.9)$ represents a vector in 2-dimensional space with x being 1.1 and y being -2.9, while ${\\bf v_2} = (0.1, 1.7)$  and ${\\bf v_3} = (-2, 1)$ represent vectors pointing to (0.1, 1.7) and (-2, 1) respectively\n",
    "(see visualization below).\n",
    "\n",
    "<sup>$\\dagger$The location of the origin in the context of vectors is arbitrary.</sup>"
   ]
  },
  {
   "cell_type": "code",
   "execution_count": 146,
   "metadata": {
    "scrolled": false
   },
   "outputs": [
    {
     "data": {
      "image/png": "[encoded data removed]",
      "text/plain": [
       "<Figure size 432x432 with 1 Axes>"
      ]
     },
     "metadata": {
      "needs_background": "light"
     },
     "output_type": "display_data"
    }
   ],
   "source": [
    "from utils import make_grid\n",
    "from utils import add_line, add_vector\n",
    "\n",
    "v1 = np.array([[1.1, -2.9]])\n",
    "v2 = np.array([[0.1, 1.7]])\n",
    "v3 = np.array([[-2, 1]])\n",
    "\n",
    "fig = make_grid(xlim=[-4, 4], ylim=[-4, 4], figsize=(6, 6))\n",
    "\n",
    "v1_plot = add_vector(v1, name='$v_1$')\n",
    "v2_plot = add_vector(v2, name='$v_2$')\n",
    "v3_plot = add_vector(v3, name='$v_3$')\n",
    "\n",
    "# add_line((0, 0), v1[0], color=v1_plot)\n",
    "# add_line((0, 0), v2[0], color=v2_plot)\n",
    "# add_line((0, 0), v3[0], color=v3_plot)"
   ]
  },
  {
   "cell_type": "markdown",
   "metadata": {},
   "source": [
    "### 1.1 Scalar Product (aka Dot Product)\n",
    "\n",
    "The _scalar product_ ${\\bf w}\\cdot{\\bf x}$ is defined as\n",
    "$$\\begin{align}\n",
    "{\\bf w}\\cdot{\\bf x} &= w_1x_1 + w_2x_2 + \\dots + w_nx_n\\\\\n",
    "&= \\sum_{i=1}^{n}{w_ix_i}\\\\\n",
    "&= {\\bf w}^T{\\bf x}\n",
    "\\end{align}$$\n",
    "\n",
    "The $\\cdot$ (center dot) represents the scalar product.\n",
    "\n",
    "In `numpy` you can use `np.dot` function to compute the scalar product, like so:"
   ]
  },
  {
   "cell_type": "code",
   "execution_count": 5,
   "metadata": {},
   "outputs": [
    {
     "name": "stdout",
     "output_type": "stream",
     "text": [
      "w⋅x = [[0.1234]]\n"
     ]
    }
   ],
   "source": [
    "w = np.array([[1, 2, 3, 4]]).T  # Column vector w\n",
    "x = np.array([[0.1, 0.01, 0.001, 0.0001]]).T  # Column vector x\n",
    "\n",
    "y = np.dot(w.T, x)\n",
    "print(f'w⋅x = {y}')"
   ]
  },
  {
   "cell_type": "markdown",
   "metadata": {},
   "source": [
    "In the example above the product is computed as $1\\cdot0.1 + 2\\cdot0.01 + 3\\cdot0.001 + 4\\cdot0.0001$, which sums up to $0.1234$.\n",
    "The result is `[[0.1234]]` because the `numpy` is trying to preserve the \"[rank](https://en.wikipedia.org/wiki/Rank_(linear_algebra))\" of the result."
   ]
  },
  {
   "cell_type": "markdown",
   "metadata": {},
   "source": [
    "The **length of vector** is denoted by $|{\\bf x}|$, and defined as follows:\n",
    "$$\n",
    "|{\\bf x}| = \\sqrt{x_1^2 + x_2^2 + \\dots + x_n^2}\n",
    "$$\n",
    "\n",
    "Notice that if we expand the squares, we get\n",
    "$$\n",
    "\\begin{align}\n",
    "|{\\bf x}| &= \\sqrt{x_1x_1 + x_2x_2 + \\dots + x_nx_n} \\\\\n",
    "&= \\sqrt{{\\bf x}^T{\\bf x}}\n",
    "\\end{align}\n",
    "$$\n",
    "\n",
    "\n",
    "Sometimes it is useful to define the **square length** of a vector, because it represents the square of the vector length and is easy to compute as a scalar product of the vector with itself:\n",
    "$$\n",
    "|{\\bf x}|^2 = {\\bf x}^T{\\bf x} = {\\bf x}^2 = x_1^2 + x_2^2 + \\dots + x_n^2\n",
    "$$\n",
    "\n",
    "If the length of a vector has a value of 1, it is called a *unit vector*.\n",
    "\n"
   ]
  },
  {
   "cell_type": "markdown",
   "metadata": {},
   "source": [
    "Geometrically, you can look at the scalar product as the length of one vector when projected onto another multiplied by the length of the other vector.\n",
    "For example, if you have vectors $\\mathbf{a} = (2, 1)$ and $\\mathbf{b} = (1, 3)$, and you'd like to compute the cross product, you can get the projection of vector $\\mathbf{a}$ on $\\mathbf{b}$, and multiply it by the magnitude of vector $\\mathbf{b}$.\n",
    "\n",
    "$$\\begin{align}\n",
    "\\mathbf{a}\\cdot\\mathbf{b} &= |\\mathbf{a}||\\mathbf{b}|\\cos(\\theta_{a,b})\n",
    "\\end{align}$$\n",
    "\n",
    "But now the question is how do we compute the angle between the two vectors in order to get the cosine of it.\n",
    "Of course we can use the arctangent to solve it<sup>$\\dagger$</sup>:\n",
    "$$\\begin{align}\n",
    "\\theta_{a, b} &= \\arctan\\left(\n",
    "\\pm\\frac{m_a - m_b}{1 + m_am_b}\n",
    "\\right) \\\\\n",
    "&= \\arctan\\left(\n",
    "\\pm\\frac{1/2 - 3/1}{1 + 1/2\\cdot3/1}\n",
    "\\right) \\\\\n",
    "&= \\pm \\frac{\\pi}{4} \\\\\n",
    "\\cos{\\theta_{a, b}} & \\approx 0.707 \\\\\n",
    "\\end{align}$$\n",
    "\n",
    "To compute the cross product:\n",
    "$$\\begin{align}\n",
    "|\\mathbf{a}| &= \\sqrt{5}  \\\\\n",
    "|\\mathbf{b}| &= \\sqrt{10} \\\\\n",
    "\\cos{\\theta_{a, b}} & \\approx 0.707 \\\\\n",
    "\\Rightarrow \\\\\n",
    "\\mathbf{a}\\cdot\\mathbf{b} &= 0.707\\sqrt{5}\\sqrt{10} \\\\\n",
    "&= 5\n",
    "\\end{align}$$\n",
    "\n",
    "It is much easier to compute the scalar product as\n",
    "$$\\begin{align}\n",
    "\\mathbf{a}\\cdot\\mathbf{b} &= 2\\cdot1 + 1\\cdot3\\\\\n",
    "&= 5\n",
    "\\end{align}$$\n",
    "\n",
    "<br>\n",
    "<small>$\\dagger$ $m_a$ and $m_b$ represent the slopes of the vectors $\\mathbf{a}$ and $\\mathbf{b}$.</small>"
   ]
  },
  {
   "cell_type": "markdown",
   "metadata": {},
   "source": [
    "#### **Assignment 1.1.1**\n",
    "\n",
    "Implement the scalar product without using the `np.dot`.\n",
    "The implementation can use the `for` loops.\n",
    "\n",
    "Hints:\n",
    "1. Check if the inputs are of the same size (use `np.size` or `np.shape`)\n",
    "2. Don't forget to check if the first vector is a row vector, while the second vector is a column vector."
   ]
  },
  {
   "cell_type": "code",
   "execution_count": 6,
   "metadata": {},
   "outputs": [],
   "source": [
    "def scalar_product(vector_a, vector_b):\n",
    "    # TODO: Implement the scalar product here\n",
    "    # ...\n",
    "    # Hint: Maybe you can loop over every element of both vectors?\n",
    "    return 0"
   ]
  },
  {
   "cell_type": "code",
   "execution_count": 7,
   "metadata": {},
   "outputs": [
    {
     "name": "stdout",
     "output_type": "stream",
     "text": [
      "Implementation is incorrect\n",
      "Implementation is incorrect\n",
      "Implementation is incorrect\n"
     ]
    }
   ],
   "source": [
    "# Function for testing the correctness\n",
    "def test_scalar_product(func):\n",
    "    from numbers import Number\n",
    "    max_len = np.random.randint(10) + 1\n",
    "    a = np.random.randn(max_len, 1)\n",
    "    b = np.random.randn(max_len, 1)\n",
    "    \n",
    "    y = np.dot(a.T, b)\n",
    "    y_hat = func(a.T, b)\n",
    "    \n",
    "    while not isinstance(y_hat, Number):\n",
    "        y_hat = y_hat[0]\n",
    "    while not isinstance(y, Number):\n",
    "        y = y[0]\n",
    "    print('Implementation is', 'correct' if np.allclose(y, y_hat) else 'incorrect')\n",
    "\n",
    "test_scalar_product(scalar_product)\n",
    "test_scalar_product(scalar_product)\n",
    "test_scalar_product(scalar_product)"
   ]
  },
  {
   "cell_type": "code",
   "execution_count": null,
   "metadata": {},
   "outputs": [],
   "source": []
  }
 ],
 "metadata": {
  "kernelspec": {
   "display_name": "Python 3",
   "language": "python",
   "name": "python3"
  },
  "language_info": {
   "codemirror_mode": {
    "name": "ipython",
    "version": 3
   },
   "file_extension": ".py",
   "mimetype": "text/x-python",
   "name": "python",
   "nbconvert_exporter": "python",
   "pygments_lexer": "ipython3",
   "version": "3.7.6"
  }
 },
 "nbformat": 4,
 "nbformat_minor": 4
}
