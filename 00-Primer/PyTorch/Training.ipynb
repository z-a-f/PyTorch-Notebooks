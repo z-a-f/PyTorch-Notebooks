{
 "cells": [
  {
   "cell_type": "markdown",
   "metadata": {},
   "source": [
    "<div align=\"center\">\n",
    "    <a href=\"https://colab.research.google.com/github/z-a-f/PyTorch-Notebooks/blob/master/00-Primer/PyTorch/Training.ipynb\" style=\"text-align:center\">Open in Colab\n",
    "        <img src=\"https://colab.research.google.com/img/colab_favicon.ico\" width=64/>\n",
    "    </a>\n",
    "</div>"
   ]
  },
  {
   "cell_type": "code",
   "execution_count": 1,
   "metadata": {},
   "outputs": [],
   "source": [
    "%matplotlib inline\n",
    "\n",
    "import matplotlib.pyplot as plt\n",
    "import numpy as np"
   ]
  },
  {
   "cell_type": "code",
   "execution_count": 2,
   "metadata": {},
   "outputs": [],
   "source": [
    "import torch\n",
    "from torch import nn\n",
    "from torch.nn import functional as F"
   ]
  },
  {
   "cell_type": "markdown",
   "metadata": {},
   "source": [
    "# Learning in PyTorch\n",
    "\n",
    "In this notebook you will learn how to start with training using the PyTorch framework."
   ]
  },
  {
   "cell_type": "markdown",
   "metadata": {},
   "source": [
    "## Data used in this notebook\n",
    "You will be using a simple synthetic dataset, that will be generated using a simple function shown below."
   ]
  },
  {
   "cell_type": "code",
   "execution_count": 3,
   "metadata": {},
   "outputs": [],
   "source": [
    "def create_dataset(poly_args,\n",
    "                   step_size=0.1,\n",
    "                   xlim=(0.0, 10.0),\n",
    "                   xnoise=0.1,\n",
    "                   ynoise=0.1):\n",
    "    \"\"\"Creates a line regression dataset:\n",
    "    \n",
    "    y = w0 + w1*x + w2*x^2 +...\n",
    "    where wi is the ith element in the `poly_args`\n",
    "    \n",
    "    Args:\n",
    "        poly_args: Arguments for the polynomial starting from 0th order\n",
    "        step_size: Step between consecutive x points\n",
    "        xlim: minimum and maximum x limit\n",
    "        xnoise, ynoise: Noise to be added to both x and y\n",
    "    Returns:\n",
    "        x, y: tuples with x/y coordinates\n",
    "        poly_str: String for the polynomial (in LaTeX)\n",
    "    \"\"\"\n",
    "    poly_str = 'y = $'\n",
    "    x_points = np.arange(xlim[0], xlim[1], step_size)\n",
    "    num_points = len(x_points)\n",
    "    x_noise = np.random.randn(num_points) * xnoise\n",
    "    y_points = poly_args[0]\n",
    "    \n",
    "    poly_str += f'-{-poly_args[0]}' if poly_args[0] < 0 else f'{poly_args[0]}'\n",
    "    \n",
    "    x = x_points\n",
    "    for idx, w in enumerate(poly_args[1:], start=1):\n",
    "        y_points += w * x\n",
    "        x = x * x_points\n",
    "        poly_str += f'- {-w}' if w < 0 else f'+ {w}'\n",
    "        poly_str += f'x^{idx}'\n",
    "    y_noise = np.random.randn(num_points) * ynoise\n",
    "    xpoints = np.array(x_points + x_noise, dtype=np.float32).reshape(-1, 1)\n",
    "    ypoints = np.array(y_points + y_noise, dtype=np.float32).reshape(-1, 1)\n",
    "    poly_str += '$'\n",
    "    return torch.from_numpy(xpoints), torch.from_numpy(ypoints), poly_str"
   ]
  },
  {
   "cell_type": "code",
   "execution_count": 4,
   "metadata": {},
   "outputs": [
    {
     "data": {
      "text/plain": [
       "Text(0, 0.5, '$y$')"
      ]
     },
     "execution_count": 4,
     "metadata": {},
     "output_type": "execute_result"
    },
    {
     "data": {
      "image/png": "[encoded data removed]",
      "text/plain": [
       "<Figure size 432x288 with 1 Axes>"
      ]
     },
     "metadata": {
      "needs_background": "light"
     },
     "output_type": "display_data"
    }
   ],
   "source": [
    "w = [1.0, 2.0, 3.0, -1.0]\n",
    "x, y, poly_str = create_dataset(poly_args=w,\n",
    "                                xlim=(-5, 5),\n",
    "                                step_size=0.1,\n",
    "                                xnoise=0.1,\n",
    "                                ynoise=0.5,\n",
    "                               )\n",
    "\n",
    "plt.plot(x.cpu(), y.cpu(), '-o', lw=2)\n",
    "plt.title(poly_str)\n",
    "plt.xlabel(f'$x$')\n",
    "plt.ylabel(f'$y$')"
   ]
  },
  {
   "cell_type": "markdown",
   "metadata": {},
   "source": [
    "## Solving the regression problem using inverses\n",
    "We can choose any number of parameters for the polynomial.\n",
    "Any model that we build should predict the y value depending on the x input.\n",
    "We need to find such a weight matrix $A$ that would \n",
    "$$\n",
    "\\begin{align}\n",
    "XA^T &= \\mathbf{y}\\\\\n",
    "X^{-1}XA^T &= X^{-1}\\mathbf{y}\\\\\n",
    "A^T &= X^{-1}\\mathbf{y}\n",
    "\\end{align}\n",
    "$$\n",
    "\n",
    "where $X$ is the matrix with powers of $\\mathbf{x}$:\n",
    "\n",
    "$$\\begin{align}\n",
    "\\begin{pmatrix}\n",
    "\\rule[-1ex]{0.5pt}{2.5ex} & \\rule[-1ex]{0.5pt}{2.5ex} & \\rule[-1ex]{0.5pt}{2.5ex} & \\dots & \\rule[-1ex]{0.5pt}{2.5ex} \\\\\n",
    "1.0 & \\mathbf{x} & \\mathbf{x}^2 & \\dots & \\mathbf{x}^{n-1} \\\\\n",
    "\\rule[-1ex]{0.5pt}{2.5ex} & \\rule[-1ex]{0.5pt}{2.5ex} & \\rule[-1ex]{0.5pt}{2.5ex} & \\dots & \\rule[-1ex]{0.5pt}{2.5ex} \\\\\n",
    "\\end{pmatrix}\n",
    "\\end{align}$$\n",
    "\n",
    "The problem is that $X$ might not be invertible, so it is better to get the pseudo-inverse:\n",
    "\n",
    "$$\n",
    "\\begin{align}\n",
    "X^{+} &= (X^TX)^{-1}X^T \\\\\n",
    "A &= X^{+}\\mathbf{y} \\\\\n",
    "&= (X^TX)^{-1}X^T\\mathbf{y}\n",
    "\\end{align}\n",
    "$$\n",
    "\n",
    "Note that we still don't know how many columns we need to be in $X$, but we can try multiple, and see which one fits better."
   ]
  },
  {
   "cell_type": "markdown",
   "metadata": {},
   "source": [
    "### Checkpoint Assignment\n",
    "\n",
    "In this assignment you need to implement the [pseudo-inverse](https://en.wikipedia.org/wiki/Moore%E2%80%93Penrose_inverse) described earlier.\n",
    "$$\n",
    "X^{+}= (X^TX)^{-1}X^T\\mathbf{y}\n",
    "$$\n",
    "\n"
   ]
  },
  {
   "cell_type": "code",
   "execution_count": 5,
   "metadata": {},
   "outputs": [],
   "source": [
    "def pseudo_inverse(A):\n",
    "    \"\"\"Computes the pseudo-inverse of A\"\"\"\n",
    "    # TODO: Write the pseudo-inverse computation\n",
    "    return torch.randn(A.shape).T"
   ]
  },
  {
   "cell_type": "code",
   "execution_count": 6,
   "metadata": {},
   "outputs": [
    {
     "data": {
      "image/png": "[encoded data removed]",
      "text/plain": [
       "<Figure size 432x288 with 1 Axes>"
      ]
     },
     "metadata": {
      "needs_background": "light"
     },
     "output_type": "display_data"
    }
   ],
   "source": [
    "def extend_x(x, n, ones=False):\n",
    "    \"\"\"Extends the vector x to the order of n\n",
    "    (including column of ones)\n",
    "    \n",
    "    Args:\n",
    "        x: vector to be extended to the polynomial\n",
    "        n: order to be extended to\n",
    "        ones: include a column of ones\n",
    "    \"\"\"\n",
    "    columns = []\n",
    "    num_el = len(x)\n",
    "    x = x.reshape(num_el)\n",
    "    if ones:\n",
    "        column = torch.ones(num_el).to(x.device)\n",
    "    else:\n",
    "        column = x\n",
    "    columns.append(column)\n",
    "    for idx in range(1, n+1):\n",
    "        column = x * column\n",
    "        columns.append(column)\n",
    "    return torch.stack(columns, -1)\n",
    "\n",
    "x = x.cpu()\n",
    "y = y.cpu()\n",
    "plt.plot(x, y, '-o', lw=3, label='Observed points')\n",
    "\n",
    "for idx in range(1, 5):\n",
    "    X_extended = extend_x(x, idx)\n",
    "    X_inverse = pseudo_inverse(X_extended)\n",
    "    A = X_inverse @ y\n",
    "    y_hat = X_extended @ A\n",
    "    \n",
    "    plt.plot(X_extended[:, 1].cpu(), y_hat.cpu(),\n",
    "             lw=3, label=f'Model (order={idx})')\n",
    "\n",
    "plt.legend()\n",
    "plt.xlabel(f'$x$')\n",
    "plt.ylabel(f'$y$')\n",
    "plt.ylim([y.min()-10, y.max()+10])\n",
    "plt.xlim([x.min()-1, x.max()+1])\n",
    "plt.grid()"
   ]
  },
  {
   "cell_type": "markdown",
   "metadata": {},
   "source": [
    "The problem with that method is that it only works for the input datasets to be relatively small.\n",
    "If the matrices are large (thousands of rows and columns), computing the pseudo-inverse becomes very slow.\n",
    "\n",
    "PyTorch uses a learning mechanism called [Stochastic Gradient Descent](https://en.wikipedia.org/wiki/Stochastic_gradient_descent), which allows the inputs to be of any size, and still maintain good accuracy and performance."
   ]
  },
  {
   "cell_type": "markdown",
   "metadata": {},
   "source": [
    "## PyTorch Models\n",
    "\n",
    "You will learn more about PyTorch models later, but for this exercise let us create a very simple model to predict the regression problem we have."
   ]
  },
  {
   "cell_type": "markdown",
   "metadata": {},
   "source": [
    "### How to make PyTorch models\n",
    "\n",
    "Building a simple sequential model in PyTorch is fairly simple.\n",
    "You can pass all the layers to `nn.Sequential`. For example, to have a 2d convolution layer followed by a ReLU activation:\n",
    "\n",
    "```python\n",
    "model = nn.Sequential(\n",
    "    nn.Conv2d(num_inputs, num_outputs, kernel_size),\n",
    "    nn.ReLU()\n",
    ")\n",
    "```\n",
    "\n",
    "Don't worry about what the layers mean, we will cover them later.\n",
    "\n",
    "The parameters like `kernel_size` are called **hyperparameters**, and are chosen during the design time.\n",
    "Other hyperparameters are the layers that will be part of the model.\n",
    "\n",
    "In this exercise let us use a single-layer neurla network:"
   ]
  },
  {
   "cell_type": "code",
   "execution_count": 7,
   "metadata": {},
   "outputs": [
    {
     "name": "stdout",
     "output_type": "stream",
     "text": [
      "----------------------------------------------------------------\n",
      "        Layer (type)               Output Shape         Param #\n",
      "================================================================\n",
      "            Linear-1                    [-1, 1]               5\n",
      "================================================================\n",
      "Total params: 5\n",
      "Trainable params: 5\n",
      "Non-trainable params: 0\n",
      "----------------------------------------------------------------\n",
      "Input size (MB): 0.00\n",
      "Forward/backward pass size (MB): 0.00\n",
      "Params size (MB): 0.00\n",
      "Estimated Total Size (MB): 0.00\n",
      "----------------------------------------------------------------\n",
      "\n"
     ]
    },
    {
     "data": {
      "text/plain": [
       "(tensor(5), tensor(5))"
      ]
     },
     "execution_count": 7,
     "metadata": {},
     "output_type": "execute_result"
    }
   ],
   "source": [
    "from torchsummary import summary\n",
    "input_size = 5\n",
    "\n",
    "model = nn.Sequential(\n",
    "    nn.Linear(input_size, 1, bias=False),\n",
    ")\n",
    "\n",
    "model = model.to('cuda')\n",
    "\n",
    "summary(model, (5,), device='cuda')"
   ]
  },
  {
   "cell_type": "markdown",
   "metadata": {},
   "source": [
    "The model here is just a single neuron that has 5 inputs.\n",
    "It is equivalent to the matrix multiplication that we used before."
   ]
  },
  {
   "cell_type": "markdown",
   "metadata": {},
   "source": [
    "### Choosing Training Parameters\n",
    "\n",
    "Before you train a network, you need to choose the optimization algorithm as well as the loss function.\n",
    "\n",
    "#### SGD Optimizer\n",
    "\n",
    "There are a lot of [optimization algorithms](https://pytorch.org/docs/stable/optim.html) in the PyTorch. \n",
    "For this exercise we will use `torch.optim.SGD`, which is a stochastic gradient descent algorithm.\n",
    "Probably, some other algorithms would converge faster, but for such a small dataset `SGD` should work fine.\n",
    "\n",
    "#### Loss function\n",
    "\n",
    "Loss function defines what function describes the error between prediction and the true value.\n",
    "Different applications work better with different loss fucntions.\n",
    "Here is a brief list of loss functions and applications.\n",
    "\n",
    "| Problem Type | Last-Layer | Loss Function |\n",
    "|:-------------|:---------------------:|:--------------|\n",
    "| Binary Classifiction | `nn.Sigmoid`  | `nn.CrossEntropyLoss` |\n",
    "| Multiclass, single-label Classification | `nn.Softmax` | `nn.CrossEntropyLoss` |\n",
    "| Multiclass, multi-label Classification | `nn.Sigmoid` | `nn.CrossEntropyLoss` |\n",
    "| Regression (arbitrary) | None<br>`nn.Linear` | `nn.MSELoss` |\n",
    "| Regression (binary) | `nn.Sigmoid` | `nn.MSELoss`<br>`nnCrossEntropyLoss` |"
   ]
  },
  {
   "cell_type": "code",
   "execution_count": 8,
   "metadata": {},
   "outputs": [],
   "source": [
    "optimizer = torch.optim.SGD(model.parameters(), lr=1e-5)\n",
    "loss_fn = nn.MSELoss()"
   ]
  },
  {
   "cell_type": "markdown",
   "metadata": {},
   "source": [
    "**CUDA**\n",
    "\n",
    "At this stage if a GPU is available, it is time to send the data and the model to CUDA."
   ]
  },
  {
   "cell_type": "code",
   "execution_count": 9,
   "metadata": {
    "scrolled": false
   },
   "outputs": [],
   "source": [
    "# Send the data to the GPU (if available)\n",
    "device = 'cuda' if torch.cuda.is_available else 'cpu'\n",
    "\n",
    "model = model.to(device)\n",
    "x = x.to(device)\n",
    "y = y.to(device)\n",
    "\n",
    "X_extended = extend_x(x, input_size-1, ones=True)  # Bias is already included"
   ]
  },
  {
   "cell_type": "markdown",
   "metadata": {},
   "source": [
    "## Training\n",
    "\n",
    "The training step follows the routine:\n",
    "\n",
    "1. While number of epochs is small\n",
    "    1. Split the data into batches\n",
    "    1. For every batch\n",
    "        1. Evaluate the model\n",
    "        1. Compute the error (loss)\n",
    "        1. Backpropagate the error\n",
    "        1. Update the trainable parameters\n",
    "    1. Increment epochs\n",
    "    \n",
    "Below is the training for the regression problem that we have."
   ]
  },
  {
   "cell_type": "code",
   "execution_count": 10,
   "metadata": {
    "scrolled": false
   },
   "outputs": [
    {
     "name": "stdout",
     "output_type": "stream",
     "text": [
      "500 / 5000 Loss: 1.0576326751708984\n",
      "1000 / 5000 Loss: 0.8830071258544921\n",
      "1500 / 5000 Loss: 0.7409947204589844\n",
      "2000 / 5000 Loss: 0.6254769897460938\n",
      "2500 / 5000 Loss: 0.5314832305908204\n",
      "3000 / 5000 Loss: 0.4549769592285156\n",
      "3500 / 5000 Loss: 0.39267841339111326\n",
      "4000 / 5000 Loss: 0.3419240570068359\n",
      "4500 / 5000 Loss: 0.30055036544799807\n",
      "5000 / 5000 Loss: 0.26680009841918945\n"
     ]
    }
   ],
   "source": [
    "EPOCHS = 5000\n",
    "batch_size = 128\n",
    "\n",
    "print_every = 500\n",
    "\n",
    "for epoch in range(EPOCHS):\n",
    "    start = 0\n",
    "    running_loss = 0\n",
    "    while start < len(x):\n",
    "        end = start + batch_size\n",
    "        # Get the batch of data\n",
    "        x_batch = X_extended[start:end]\n",
    "        y_batch = y[start:end]\n",
    "        start = end\n",
    "        # Reset the optimizer\n",
    "        optimizer.zero_grad()\n",
    "        # Compute the result\n",
    "        y_hat = model(x_batch)\n",
    "        # Get the loss and propagate it back\n",
    "        loss = loss_fn(y_hat, y_batch)\n",
    "        loss.backward()\n",
    "        # Update the trainable parameters\n",
    "        optimizer.step()\n",
    "        # Log the Loss\n",
    "        running_loss += loss.item()\n",
    "    if (epoch+1) % print_every == 0:\n",
    "        print(f'{epoch+1} / {EPOCHS} Loss: {running_loss / len(x)}')"
   ]
  },
  {
   "cell_type": "code",
   "execution_count": 11,
   "metadata": {},
   "outputs": [
    {
     "data": {
      "image/png": "[encoded data removed]",
      "text/plain": [
       "<Figure size 432x288 with 1 Axes>"
      ]
     },
     "metadata": {
      "needs_background": "light"
     },
     "output_type": "display_data"
    }
   ],
   "source": [
    "plt.plot(x.cpu(), y.cpu(), '-o', lw=3, label='Observed points')\n",
    "model = model.eval().cuda()\n",
    "y_hat = model(X_extended)\n",
    "\n",
    "plt.plot(X_extended[:, 1].cpu(), y_hat.detach().cpu(),\n",
    "         lw=3, label=f'Model (Neural Network)')\n",
    "\n",
    "plt.legend()\n",
    "plt.xlabel(f'$x$')\n",
    "plt.ylabel(f'$y$')\n",
    "plt.ylim([y.min().item()-10, y.max().item()+10])\n",
    "plt.grid()"
   ]
  },
  {
   "cell_type": "markdown",
   "metadata": {},
   "source": [
    "### Checkpoint Assignment\n",
    "\n",
    "Create a new model with two `nn.Linear` layers. with an activation between them.\n",
    "Here is the list of the activation functions that you can try: `nn.ReLU`, `nn.Sigmoid`, and `nn.Tanh`.\n",
    "Also change the optimizer to `optim.Adagrad`.\n",
    "\n",
    "**Note:** You will need to change the learning rate to make the new optimizer work. Try `1e-2`, `1e-1`, and `1.0`, and see which one works better.\n",
    "\n",
    "Here is how your model could like, depending on the activation you use and intermediate size you have:\n",
    "\n",
    "```\n",
    "-------------------------------------------------------------\n",
    "        Layer (type)            Output Shape         Param #\n",
    "=============================================================\n",
    "            Linear-1                 [-1, 3]              18\n",
    "              ReLU-2                 [-1, 3]               0\n",
    "            Linear-3                 [-1, 1]               4\n",
    "==============================================================\n",
    "```"
   ]
  },
  {
   "cell_type": "code",
   "execution_count": 17,
   "metadata": {},
   "outputs": [
    {
     "name": "stdout",
     "output_type": "stream",
     "text": [
      "----------------------------------------------------------------\n",
      "        Layer (type)               Output Shape         Param #\n",
      "================================================================\n",
      "          Identity-1                    [-1, 5]               0\n",
      "================================================================\n",
      "Total params: 0\n",
      "Trainable params: 0\n",
      "Non-trainable params: 0\n",
      "----------------------------------------------------------------\n",
      "Input size (MB): 0.00\n",
      "Forward/backward pass size (MB): 0.00\n",
      "Params size (MB): 0.00\n",
      "Estimated Total Size (MB): 0.00\n",
      "----------------------------------------------------------------\n",
      "\n"
     ]
    },
    {
     "name": "stderr",
     "output_type": "stream",
     "text": [
      "/home/zafar/miniconda3/envs/py37-ml/lib/python3.7/site-packages/ipykernel_launcher.py:14: UserWarning: The model has not parameters! Did you add Linear?\n",
      "  \n"
     ]
    }
   ],
   "source": [
    "import warnings\n",
    "from torch import optim\n",
    "\n",
    "model = nn.Sequential(\n",
    "    # TODO: Add the componenst here\n",
    "    nn.Identity()  # This is a placeholder\n",
    ")\n",
    "\n",
    "summary(model, (5,), device='cpu')\n",
    "\n",
    "try:\n",
    "    optimizer = optim.SGD(model.parameters(), lr=1e-6)  # This is a placeholder\n",
    "except ValueError:\n",
    "    warnings.warn(\"The model has not parameters! Did you add Linear?\")\n",
    "loss_function = nn.MSELoss()"
   ]
  },
  {
   "cell_type": "code",
   "execution_count": null,
   "metadata": {},
   "outputs": [],
   "source": [
    "EPOCHS = 5000\n",
    "batch_size = 128\n",
    "\n",
    "print_every = 500\n",
    "\n",
    "for epoch in range(EPOCHS):\n",
    "    start = 0\n",
    "    running_loss = 0\n",
    "    while start < len(x):\n",
    "        end = start + batch_size\n",
    "        # Get the batch of data\n",
    "        x_batch = X_extended[start:end]\n",
    "        y_batch = y[start:end]\n",
    "        start = end\n",
    "        # Reset the optimizer\n",
    "        optimizer.zero_grad()\n",
    "        # Compute the result\n",
    "        y_hat = model(x_batch)\n",
    "        # Get the loss and propagate it back\n",
    "        loss = loss_fn(y_hat, y_batch)\n",
    "        loss.backward()\n",
    "        # Update the trainable parameters\n",
    "        optimizer.step()\n",
    "        # Log the Loss\n",
    "        running_loss += loss.item()\n",
    "    if (epoch+1) % print_every == 0:\n",
    "        print(f'{epoch+1} / {EPOCHS} Loss: {running_loss / len(x)}')"
   ]
  },
  {
   "cell_type": "code",
   "execution_count": null,
   "metadata": {},
   "outputs": [],
   "source": [
    "plt.plot(x.cpu(), y.cpu(), '-o', lw=3, label='Observed points')\n",
    "model = model.eval().cuda()\n",
    "y_hat = model(X_extended)\n",
    "\n",
    "plt.plot(X_extended[:, 1].cpu(), y_hat.detach().cpu(),\n",
    "         lw=3, label=f'Model (Neural Network)')\n",
    "\n",
    "plt.legend()\n",
    "plt.xlabel(f'$x$')\n",
    "plt.ylabel(f'$y$')\n",
    "plt.ylim([y.min().item()-10, y.max().item()+10])\n",
    "plt.grid()"
   ]
  },
  {
   "cell_type": "markdown",
   "metadata": {},
   "source": [
    "## Conclusion\n",
    "\n",
    "Now you know how to create a very basic model and to train it.\n",
    "In the later sections I will show you how to validate and test your models.\n",
    "\n",
    "*Note on the losses:* It is often useful to combine the losses or to create a custom ones. However, PyTorch framwork has a wide range of different loss functions you can start with."
   ]
  },
  {
   "cell_type": "code",
   "execution_count": null,
   "metadata": {},
   "outputs": [],
   "source": []
  }
 ],
 "metadata": {
  "kernelspec": {
   "display_name": "Python 3",
   "language": "python",
   "name": "python3"
  },
  "language_info": {
   "codemirror_mode": {
    "name": "ipython",
    "version": 3
   },
   "file_extension": ".py",
   "mimetype": "text/x-python",
   "name": "python",
   "nbconvert_exporter": "python",
   "pygments_lexer": "ipython3",
   "version": "3.7.5"
  }
 },
 "nbformat": 4,
 "nbformat_minor": 4
}
