{
 "cells": [
  {
   "cell_type": "markdown",
   "metadata": {},
   "source": [
    "<div align=\"center\">\n",
    "    <a href=\"https://colab.research.google.com/github/z-a-f/PyTorch-Notebooks/blob/master/01-Basic-Neural-Networks/Binary-Classification.ipynb\" style=\"text-align:center\">Open in Colab\n",
    "        <img src=\"https://colab.research.google.com/img/colab_favicon.ico\" width=64/>\n",
    "    </a>\n",
    "</div>"
   ]
  },
  {
   "cell_type": "code",
   "execution_count": 1,
   "metadata": {},
   "outputs": [],
   "source": [
    "%load_ext autoreload\n",
    "%autoreload 2\n",
    "%matplotlib inline\n",
    "\n",
    "import matplotlib.pyplot as plt\n",
    "import numpy as np"
   ]
  },
  {
   "cell_type": "markdown",
   "metadata": {},
   "source": [
    "# Binary Classification: Classifying Movie Reviews"
   ]
  },
  {
   "cell_type": "markdown",
   "metadata": {},
   "source": [
    "> **In this example you will learn**\n",
    ">\n",
    "> - What is binary classification\n",
    "> - How to preprocess the data before feeding it into a neural network\n",
    "> - How to stack linear, fully-connected networks and activations to produce non-linear computation.\n",
    "> - What kind of activations are useful in the simplest architectures.\n",
    "> - Basic problem of overfitting."
   ]
  },
  {
   "cell_type": "markdown",
   "metadata": {},
   "source": [
    "In this section you will cover binary classification, which is one of the most widely applied kind of ML problem. For that purpose you will use IMDB dataset <sup>$\\dagger$</sup>, which is a collection of moview reviews, with the reviews being either positive or negative. The classification task is to predict the sentiment of the review.\n",
    "\n",
    "---\n",
    "<small><sup>$\\dagger$</sup>Andrew L. Maas, Raymond E. Daly, Peter T. Pham, Dan Huang, Andrew Y. Ng, and Christopher Potts. (2011). **Learning Word Vectors for Sentiment Analysis**. *The 49th Annual Meeting of the Association for Computational Linguistics (ACL 2011)*.</small>"
   ]
  },
  {
   "cell_type": "markdown",
   "metadata": {},
   "source": [
    "## IMDB Dataset\n",
    "\n",
    "IMDB dataset is a set of 50,000 polarized movie reviews. The dataset is split into two equal parts of 25,000 reviews, one for training and another for testing. At the same time the every subset has equal number of positive and negative reviews.\n",
    "\n",
    "The reason for separating the dataset into two parts (train and test), is to avoid “memorization”. Imagine that your network is very powerful, and after seeing 50,000 reviews, it was able to memorize all of them. You will get 100% accuracy for any example in that dataset. However, when presented with the examples never seen before, such a network will fail. Separating the data into train and test sets allows us to train on one part of the data, and check the accuracy on the other.\n",
    "\n",
    "To load the dataset, you will use the [TorchText](https://torchtext.readthedocs.io/en/latest/datasets.html). Note that the dataset will download ~80 MB of data, and exapand into ~0.5GB. You can take a look at the [primer notebooks](/00-Primer/PyTorch/PyTorch-Packages.ipynb)\n",
    "\n",
    "As a reminder here is how to load the `torchtext` data."
   ]
  },
  {
   "cell_type": "code",
   "execution_count": 2,
   "metadata": {},
   "outputs": [],
   "source": [
    "import os\n",
    "\n",
    "from torchtext import data\n",
    "from torchtext import datasets\n",
    "\n",
    "# Data path\n",
    "DATA_PATH = os.path.join(os.path.expanduser('~'), 'data')\n",
    "\n",
    "# Create data fields\n",
    "TEXT = data.Field(batch_first=True, lower=True)\n",
    "LABEL = data.LabelField()\n",
    "\n",
    "# Download the data and use the fields to identify it.\n",
    "train, test = datasets.IMDB.splits(root=DATA_PATH,\n",
    "                                   text_field=TEXT,\n",
    "                                   label_field=LABEL)"
   ]
  },
  {
   "cell_type": "markdown",
   "metadata": {},
   "source": [
    "Notice that we specified the `batch_first=True`, which makes sure that the batch axis is the first one in the dataset."
   ]
  },
  {
   "cell_type": "code",
   "execution_count": 3,
   "metadata": {},
   "outputs": [
    {
     "name": "stdout",
     "output_type": "stream",
     "text": [
      ">>> len(train)  # Number of samples:\n",
      "25000\n",
      ">>> type(train[0])  # Type of the samples:\n",
      "<class 'torchtext.data.example.Example'>\n"
     ]
    }
   ],
   "source": [
    "print(f'>>> len(train)  # Number of samples:\\n{len(train)}')\n",
    "print(f'>>> type(train[0])  # Type of the samples:\\n{type(train[0])}')"
   ]
  },
  {
   "cell_type": "markdown",
   "metadata": {},
   "source": [
    "You can see the samples:"
   ]
  },
  {
   "cell_type": "code",
   "execution_count": 4,
   "metadata": {},
   "outputs": [
    {
     "name": "stdout",
     "output_type": "stream",
     "text": [
      ">>> train[2].label  # First example sentiment:\n",
      "pos\n",
      ">>> \" \".join(train[2].text)  # First example text:\n",
      "smallville episode justice is the best episode of smallville ! ! ! ! ! ! ! ! ! ! ! ! ! ! ! ! ! ! ! ! ! ! ! ! ! ! ! ! ! ! ! ! ! ! ! ! ! ! ! ! ! ! ! ! ! ! ! ! ! ! ! ! ! ! ! ! ! ! ! ! ! ! ! ! ! ! ! ! ! ! ! ! ! ! ! ! ! ! ! ! ! ! ! ! ! ! ! ! ! ! ! ! ! ! ! ! ! ! ! ! ! ! ! ! ! ! ! ! ! ! ! ! ! ! ! ! ! ! ! ! ! ! ! ! ! ! ! ! ! ! ! ! ! ! ! ! ! ! ! ! ! ! ! ! it's my favorite episode of smallville! ! ! ! ! ! ! ! ! ! ! ! ! ! ! ! ! ! ! ! ! ! ! ! ! ! ! ! ! ! ! ! ! ! ! ! ! ! ! ! ! ! ! ! ! ! ! ! ! ! ! ! ! ! ! ! ! ! ! ! ! ! ! ! ! ! ! ! ! ! ! ! ! ! ! ! ! ! ! ! ! ! ! ! ! ! ! ! ! ! ! ! ! ! ! ! ! ! ! ! ! ! ! ! ! ! ! ! ! ! ! ! ! ! ! ! ! ! ! ! ! ! ! ! ! ! ! ! ! ! ! ! ! ! ! ! ! !\n"
     ]
    }
   ],
   "source": [
    "SAMPLE_NUM = 2\n",
    "print(f'>>> train[{SAMPLE_NUM}].label  # First example sentiment:\\n{train[SAMPLE_NUM].label}')\n",
    "print(f'>>> \" \".join(train[{SAMPLE_NUM}].text)  # First example text:\\n{\" \".join(train[SAMPLE_NUM].text)}')"
   ]
  },
  {
   "cell_type": "markdown",
   "metadata": {},
   "source": [
    "## Loading the Dataset\n",
    "\n",
    "The first step is to load the dataset.\n",
    "\n",
    "**Checkpoint Assignment**\n",
    "\n",
    "Populate the code cell below"
   ]
  },
  {
   "cell_type": "code",
   "execution_count": 5,
   "metadata": {},
   "outputs": [],
   "source": [
    "# from torchtext import data\n",
    "# from torchtext import datasets\n",
    "\n",
    "# \"\"\"\n",
    "# TODO: Setup the text and label fields first.\n",
    "#       Make sure the text field is lower case\n",
    "#       and the batch axis is first.\n",
    "# TODO: Get the training and tesing sets from the torchvision datasets\n",
    "# \"\"\"\n",
    "# TEXT = None\n",
    "# LABEL = None\n",
    "\n",
    "# train, test = None, None"
   ]
  },
  {
   "cell_type": "markdown",
   "metadata": {},
   "source": [
    "While loading the dataset, we can also create a vocabulary -- a dictionary of all the words in the training text.\n",
    "To use that, you can use `build_vocab` on the data fields:"
   ]
  },
  {
   "cell_type": "code",
   "execution_count": 6,
   "metadata": {},
   "outputs": [
    {
     "name": "stdout",
     "output_type": "stream",
     "text": [
      ">>> # First 10 words in TEXT vocabulary:\n",
      ">>> TEXT.vocab.itos[:10]\n",
      "['<unk>', '<pad>', 'the', 'a', 'and', 'of', 'to', 'is', 'in', 'i']\n",
      ">>> # All classes in LABEL vocabulary:\n",
      ">>> LABEL.vocab.itos\n",
      "['neg', 'pos']\n"
     ]
    }
   ],
   "source": [
    "if TEXT is None or LABEL is None:\n",
    "    raise NotImplementedError(\"Please, finish the TEXT and LABEL instantiation\")\n",
    "\n",
    "if train is None or test is None:\n",
    "    raise NotImplementedError(\"Please, create train and test sets\")\n",
    "    \n",
    "MAX_VOCABULARY_SIZE = 10000\n",
    "\n",
    "# Create a vocabulary\n",
    "TEXT.build_vocab(train, max_size=MAX_VOCABULARY_SIZE-2)  # Notice this!\n",
    "LABEL.build_vocab(train)\n",
    "\n",
    "print('>>> # First 10 words in TEXT vocabulary:')\n",
    "print(f'>>> TEXT.vocab.itos[:10]\\n{TEXT.vocab.itos[:10]}')\n",
    "print('>>> # All classes in LABEL vocabulary:')\n",
    "print(f'>>> LABEL.vocab.itos\\n{LABEL.vocab.itos}')"
   ]
  },
  {
   "cell_type": "markdown",
   "metadata": {},
   "source": [
    "**Reference Output**\n",
    "\n",
    "```python\n",
    ">>> # First 10 words in TEXT vocabulary:\n",
    ">>> TEXT.vocab.itos[:10]\n",
    "['<unk>', '<pad>', 'the', 'a', 'and', 'of', 'to', 'is', 'in', 'i']\n",
    ">>> # All classes in LABEL vocabulary:\n",
    ">>> LABEL.vocab.itos\n",
    "['neg', 'pos']\n",
    "```"
   ]
  },
  {
   "cell_type": "markdown",
   "metadata": {},
   "source": [
    "Notice that we are using `MAX_VOCABULARY_SIZE - 2`.\n",
    "The reason is that there are two reserved words: `<unk>` and `<pad>`, which represent unknown words and padding: there will be 9998 words in the vocabulary.\n",
    "\n",
    "The code above takes 10000 most common words in the training set. The rest of the words are going to be `<unk>`.\n",
    "\n",
    "### Validation set\n",
    "\n",
    "Now that the dataset is loaded, you need to set aside a validation set.\n",
    "The code below shows how to split a dataset\n",
    "\n",
    "> **NOTE: Why do you need a validation set?**\n",
    "> \n",
    "> Validation data is a special dataset derived from the training set, that is used for evaluating the running performance improvement (or degradation). This is different from the test set: test set exists only to show the very final statistical performance. It should not be used during the training phase in order to avoid tuning your network to fit to the test set.\n",
    "> \n",
    "> The validation set is often used to find the best possible architecture for the given problem. For example, if you are not sure if you should use 64 or 128 hidden units in a hidden layer, you run the network twice with different parameters, and compare the statistical performance on the validation set."
   ]
  },
  {
   "cell_type": "code",
   "execution_count": 7,
   "metadata": {},
   "outputs": [],
   "source": [
    "validation_fraction = 0.33\n",
    "BATCH_SIZE = 2048\n",
    "\n",
    "# Split the dataset\n",
    "train_split, val_split = train.split(1.0 - validation_fraction)\n",
    "# Create data iterators (for convenience)\n",
    "train_iter, val_iter, test_iter = data.Iterator.splits((train_split, val_split, test),\n",
    "                                                       batch_size=BATCH_SIZE,\n",
    "                                                       shuffle=True,)"
   ]
  },
  {
   "cell_type": "code",
   "execution_count": 8,
   "metadata": {},
   "outputs": [
    {
     "name": "stdout",
     "output_type": "stream",
     "text": [
      ">>> # A single batch of training data:\n",
      ">>> next(iter(train_iter))\n",
      "[torchtext.data.batch.Batch of size 2048]\n",
      "\t[.text]:[torch.LongTensor of size 2048x1004]\n",
      "\t[.label]:[torch.LongTensor of size 2048]\n"
     ]
    }
   ],
   "source": [
    "print(f'>>> # A single batch of training data:')\n",
    "first_train_batch = next(iter(train_iter))\n",
    "print(f'>>> next(iter(train_iter)){first_train_batch}')"
   ]
  },
  {
   "cell_type": "markdown",
   "metadata": {},
   "source": [
    "Notice that the data in the batch is \"numericalized\" -- converted from words to numbers."
   ]
  },
  {
   "cell_type": "code",
   "execution_count": 9,
   "metadata": {
    "scrolled": true
   },
   "outputs": [
    {
     "name": "stdout",
     "output_type": "stream",
     "text": [
      "The first ten words:\n",
      "tensor([   9,  308,  294,    0,   75,  181, 1159,    8,    0,    0])\n"
     ]
    }
   ],
   "source": [
    "print(\"The first ten words:\")\n",
    "print(first_train_batch.text[0, :10])"
   ]
  },
  {
   "cell_type": "markdown",
   "metadata": {},
   "source": [
    "### Decoding the \"numericalized\" entries\n",
    "\n",
    "While you are at it, here is how you can decode a review and its sentiment after creating the numerical representations.\n",
    "You can use `stoi()` and `itos()` methods documented in [`torchtext.vocab`](https://torchtext.readthedocs.io/en/latest/vocab.html)."
   ]
  },
  {
   "cell_type": "code",
   "execution_count": 10,
   "metadata": {
    "scrolled": true
   },
   "outputs": [
    {
     "name": "stdout",
     "output_type": "stream",
     "text": [
      ">>> decoded_sentiment\n",
      "neg\n",
      ">>> decoded_text\n",
      "why me? why should i be subjected to such slaughter of what could have made an interesting <unk> at least if i can warn other people off, it will have been <unk> /><br />i had to watch this horrible movie for a college course. otherwise, i would have looked at the synopsis on the back of the thing and <unk> clear. the movie was slow, had painfully little character development, and centered around the idea that a creepy little white man can become cool if he hangs out with an <unk> token black man.<br /><br />if you want to experience the stereotypical la feeling of <unk> <unk> - watch the movie. note, though, that this movie does not depict what we have come to think of as an \"la <unk> it is a wonderful example of the <unk> that <unk> from it.\n"
     ]
    }
   ],
   "source": [
    "def decode_imdb(review, vocabulary):\n",
    "    \"\"\"Decodes a numerical review given a vocabulary.\"\"\"\n",
    "    pad_id = vocabulary.stoi.get('<pad>', -1)  # If no padding use -1\n",
    "    text = []\n",
    "    if not np.shape(review):  # In case a single number\n",
    "        return vocabulary.itos[int(review)]\n",
    "    for word_id in review:\n",
    "        if word_id == pad_id:\n",
    "            # Ignore the padding\n",
    "            break\n",
    "        text.append(decode_imdb(word_id, vocabulary))\n",
    "    return ' '.join(text)\n",
    "\n",
    "example = next(iter(train_iter))\n",
    "SAMPLE_NUM = np.random.randint(len(example))\n",
    "\n",
    "text = example.text[SAMPLE_NUM]\n",
    "label = example.label[SAMPLE_NUM]\n",
    "\n",
    "decoded_text = decode_imdb(text, TEXT.vocab)\n",
    "decoded_sentiment = decode_imdb(label, LABEL.vocab)\n",
    "\n",
    "# print('>>> # Decoded sentiment')\n",
    "print(f'>>> decoded_sentiment\\n{decoded_sentiment}')\n",
    "# print('>>> # Decoded review')\n",
    "print(f'>>> decoded_text\\n{decoded_text}')"
   ]
  },
  {
   "cell_type": "markdown",
   "metadata": {},
   "source": [
    "Notice that some of the words have a `<unk>` token, which indicates that the word at this position was not frequent enough to be included in the vocabulary. "
   ]
  },
  {
   "cell_type": "markdown",
   "metadata": {},
   "source": [
    "### Checkpoint Assignment\n",
    "\n",
    "Rewrite the `decode_imdb` to:\n",
    "\n",
    "1. Replace all `<unk>` with ellipses ($\\dots$).\n",
    "2. Replace all the new line breaks within the text with '\\n' character.\n",
    "\n",
    "\n",
    "- Hint 1: You can use `vocabulary.stoi.get('<unk>', -2)` to get the numericalized version of the padding.\n",
    "- Hint 2: New line breaks are three consecutive words `XYZ<br`, `/><br`, and `/>XYZ`. However, note that the `XYZ` is a valid word."
   ]
  },
  {
   "cell_type": "markdown",
   "metadata": {},
   "source": [
    "## Preprocessing the Dataset\n",
    "\n",
    "To make the dataset usable with the neural networks, you have to turn the lists into tensors of the same size. This is because the networks you work with expect a tensor of a specific shape as an input. For the textual data, there are two ways to do that:\n",
    "\n",
    "1. Pad/Truncate the sample lists in the dataset such that every example would have the same length. After that, train the first layer of the network to handle the padded lists (Embedding layer, will be covered in the later sections).\n",
    "\n",
    "2. One-hot encode your lists to turn them into vectors of 0s and 1s. For example, if you have a vocabulary of size 10, you would create a vector of 10 zeros. After that you would set to one the positions that correspond to the elements in the list. Sequence `[3, 5]`, in such a scenario, would be encoded as `[0, 0, 0, 1, 0, 1, 0, 0, 0, 0]`.\n",
    "\n",
    "You will use the second option in this exercise. Embeddings will be covered later :)"
   ]
  },
  {
   "cell_type": "code",
   "execution_count": 11,
   "metadata": {
    "scrolled": true
   },
   "outputs": [
    {
     "name": "stdout",
     "output_type": "stream",
     "text": [
      "Original vector:\n",
      "\t tensor([ 145,    3,  305,  376,    5,    2,  225,    0, 1199,    4,  209,   35,\n",
      "           5,  115,   19, 1885,    0,   62,    3, 7317,    6,   28, 2813,   19,\n",
      "           0,   18,    0,    0,    4,    2,   80,  212, 8639,   15,  107,   15,\n",
      "           2, 7570,  206,  402,    6, 1557,   12,  137,  446, 2397,    9, 1872,\n",
      "           2,  225,    0,  707,    2,   88,    0,  280,  997,  260,    5,   11,\n",
      "         390,    4,  216,   45, 5082,    0, 2855,    0, 3459,    0, 3459,    0,\n",
      "        3910,    0, 8678,    0,    4,    3, 3763,    5, 2236,    0,  360,   17,\n",
      "        2855,    0,   14,   19,    2,  426,    5,   57,    0,   13,    0,  146,\n",
      "        1366,  154,    0,   35])\n",
      "Original vector shape:\n",
      "\t torch.Size([1475])\n",
      "One-Hot vector:\n",
      "\t tensor([1., 1., 1.,  ..., 0., 0., 0.])\n",
      "One-Hot vector shape:\n",
      "\t torch.Size([10000])\n"
     ]
    }
   ],
   "source": [
    "import torch\n",
    "\n",
    "def vectorize_sequences(sequences, dimension=MAX_VOCABULARY_SIZE):\n",
    "    results = torch.zeros((len(sequences), dimension))\n",
    "    for idx, sequence in enumerate(sequences):\n",
    "        results[idx, sequence] = 1.0\n",
    "    return results\n",
    "\n",
    "def data_preprocess(x_data, y_data):\n",
    "    x_data = vectorize_sequences(x_data)  # Vectorize the data\n",
    "    y_data = y_data.to(torch.float).reshape(-1, 1)  # Convert to Float\n",
    "    return x_data, y_data\n",
    "\n",
    "print(\"Original vector:\\n\\t\", example.text[0][:100])\n",
    "print(\"Original vector shape:\\n\\t\", example.text[0].shape)\n",
    "print(\"One-Hot vector:\\n\\t\", vectorize_sequences(example.text)[0])\n",
    "print(\"One-Hot vector shape:\\n\\t\", vectorize_sequences(example.text)[0].shape)"
   ]
  },
  {
   "cell_type": "markdown",
   "metadata": {},
   "source": [
    "## Building the Network\n",
    "\n",
    "Before building the network here is a description of the layers we will use.\n",
    "\n",
    "- __`Linear(in_features, out_features)`__ -- A function that computes linear transformation of the input $y=w\\cdot x + b$, where $w, b$ are the learnable weight and bias, and $x$ is the input vector. The `in_features` and `out_features` are arguments that specify the dimensionality of the input and output. `in_features` is often referred to as “number of hidden units”.\n",
    "\n",
    "- __`ReLU()`__ -- Rectified Linear Unit activation function which has a form $y=max(0, x)$. `ReLU()` sets all the negative values to zero, while passing through all the positive inputs. The function plot is shown on the figure below.\n",
    "\n",
    "- __`Sigmoid()`__ -- Sigmoid activation function creates a smooth transition from 0 to 1. When the input is extremely negative, the output approaches 0. When the input is extremely positive, the output approaches 1. The curve plot is show in the figure below.\n",
    "\n",
    "![ReLU and Sigmoid Activations](imgs/activations.png)"
   ]
  },
  {
   "cell_type": "markdown",
   "metadata": {},
   "source": [
    "> **Note: Why do you need activation functions?**\n",
    ">\n",
    "> Without the activation functions, no matter how many layers are included in the network, the computation will be always linear. To show it, you need to go into the domain of the linear algebra: let’s say you have a two-layer network with linear units, but without the activation functions. The output of the first layer can be computed as $H = W_1\\cdot X + b_1$. The output of the second layer thus will be $Y = W_2\\cdot H + b_2$. If you replace $H$ in the second equation with the first one:\n",
    "> \n",
    "> $$\n",
    "\\begin{align}\n",
    "&\\begin{cases}\n",
    "    H = W_1X + b_1 \\\\\n",
    "    Y = W_2H + b_2\n",
    "\\end{cases} \\\\\n",
    "\\Rightarrow &Y = W_2 \\left( W_1 X + b_1 \\right) + b_2 \\\\\n",
    "\\Rightarrow &Y = (W_2 W_1) X + (W_2b_1 + b_2) \\\\\n",
    "\\Rightarrow & \\begin{cases}\n",
    "    Y = W_3 X + b_3 \\\\\n",
    "    W_3 = W_2 W_1 \\\\\n",
    "    b_3 = W_2b_1 + b_2\n",
    "\\end{cases}\n",
    "\\end{align}\n",
    "$$\n",
    "> \n",
    "> Notice that Y is a linear transformation of X, which is equivalent to a single layer network. And that’s why you need non-linear activation function such as `ReLU()` or `Sigmoid()`."
   ]
  },
  {
   "cell_type": "markdown",
   "metadata": {},
   "source": [
    "### Choosing Hyperparameters\n",
    "\n",
    "When designing the networks, you need to answer a lot of questions.\n",
    "Some of these questions:\n",
    "\n",
    "- How many layers should be in the architecture?\n",
    "- How many hidden units to have in each layer?\n",
    "- What kind of activations to have after each layer?\n",
    "\n",
    "$$\\begin{align}\n",
    "X\n",
    "& \\Rightarrow \\text{Linear(10000, 1)} \\\\\n",
    "& \\Rightarrow \\text{Sigmoid()} \\\\\n",
    "& \\Rightarrow Y\n",
    "\\end{align}$$\n",
    "\n",
    "The architecture above shows the neural network for classifying the IMDB reviews. $X$ is the input with every example in it being a vector of size 10000. $Y$ is the output ranging from 0 to 1."
   ]
  },
  {
   "cell_type": "code",
   "execution_count": 12,
   "metadata": {},
   "outputs": [],
   "source": [
    "from torch import nn\n",
    "\n",
    "device = 'cuda' if torch.cuda.is_available() else 'cpu'\n",
    "\n",
    "model = nn.Sequential(\n",
    "    nn.Linear(MAX_VOCABULARY_SIZE, 1),  # MAX_VOCABULARY_SIZE = 10000\n",
    "    nn.Sigmoid()\n",
    ").to(device)"
   ]
  },
  {
   "cell_type": "markdown",
   "metadata": {},
   "source": [
    "Now that the model is setup, you need to setup the **optimizer** and the **loss function**.\n",
    "For the optimizer we will use `RMSprop()` and for the loss `BCELoss` (Binary cross-entropy loss)."
   ]
  },
  {
   "cell_type": "code",
   "execution_count": 13,
   "metadata": {},
   "outputs": [],
   "source": [
    "from torch import optim\n",
    "\n",
    "learning_rate = 1e-3\n",
    "\n",
    "optimizer = optim.RMSprop(model.parameters(), lr=learning_rate)\n",
    "loss_fn = nn.BCELoss()  # Binary Cross Entropy loss"
   ]
  },
  {
   "cell_type": "markdown",
   "metadata": {},
   "source": [
    "## Training and Validating the Model\n",
    "\n",
    "The training utilities are located under the `/utils/training.py`. Also, you can find the performance utilities are under `/utils/performance.py`. I encourage going through the docstrings in those files :)"
   ]
  },
  {
   "cell_type": "code",
   "execution_count": 14,
   "metadata": {},
   "outputs": [],
   "source": [
    "import os\n",
    "import sys\n",
    "\n",
    "# Setup the utilities path\n",
    "NOTEBOOK_ROOT = f'/proc/{os.environ[\"JPY_PARENT_PID\"]:s}/cwd'\n",
    "NOTEBOOK_ROOT = os.readlink(NOTEBOOK_ROOT)\n",
    "sys.path.append(NOTEBOOK_ROOT)\n",
    "\n",
    "from utils.training import run_epoch\n",
    "from utils.performance import running_loss_accuracy"
   ]
  },
  {
   "cell_type": "markdown",
   "metadata": {},
   "source": [
    "**Actually training :)**\n",
    "\n",
    "Now that the functions are imported (we will discuss them later), we can run the training."
   ]
  },
  {
   "cell_type": "code",
   "execution_count": 15,
   "metadata": {
    "scrolled": false
   },
   "outputs": [
    {
     "name": "stdout",
     "output_type": "stream",
     "text": [
      "1/20\n",
      "\tTraining Loss: 0.61 Accuracy: 69.84%\n",
      "\tValidation Loss: 0.54 Accuracy: 83.26%\n",
      "2/20\n",
      "\tTraining Loss: 0.50 Accuracy: 86.00%\n",
      "\tValidation Loss: 0.49 Accuracy: 84.38%\n",
      "3/20\n",
      "\tTraining Loss: 0.45 Accuracy: 87.49%\n",
      "\tValidation Loss: 0.46 Accuracy: 85.19%\n",
      "4/20\n",
      "\tTraining Loss: 0.43 Accuracy: 88.39%\n",
      "\tValidation Loss: 0.45 Accuracy: 85.12%\n",
      "5/20\n",
      "\tTraining Loss: 0.40 Accuracy: 88.91%\n",
      "\tValidation Loss: 0.43 Accuracy: 85.76%\n",
      "6/20\n",
      "\tTraining Loss: 0.39 Accuracy: 89.59%\n",
      "\tValidation Loss: 0.42 Accuracy: 86.22%\n",
      "7/20\n",
      "\tTraining Loss: 0.37 Accuracy: 89.93%\n",
      "\tValidation Loss: 0.41 Accuracy: 86.42%\n",
      "8/20\n",
      "\tTraining Loss: 0.36 Accuracy: 90.40%\n",
      "\tValidation Loss: 0.40 Accuracy: 86.63%\n",
      "9/20\n",
      "\tTraining Loss: 0.35 Accuracy: 90.76%\n",
      "\tValidation Loss: 0.39 Accuracy: 86.82%\n",
      "10/20\n",
      "\tTraining Loss: 0.34 Accuracy: 91.10%\n",
      "\tValidation Loss: 0.38 Accuracy: 86.82%\n",
      "11/20\n",
      "\tTraining Loss: 0.33 Accuracy: 91.28%\n",
      "\tValidation Loss: 0.38 Accuracy: 87.12%\n",
      "12/20\n",
      "\tTraining Loss: 0.32 Accuracy: 91.52%\n",
      "\tValidation Loss: 0.37 Accuracy: 87.04%\n",
      "13/20\n",
      "\tTraining Loss: 0.31 Accuracy: 91.69%\n",
      "\tValidation Loss: 0.37 Accuracy: 87.28%\n",
      "14/20\n",
      "\tTraining Loss: 0.31 Accuracy: 91.95%\n",
      "\tValidation Loss: 0.36 Accuracy: 87.16%\n",
      "15/20\n",
      "\tTraining Loss: 0.30 Accuracy: 91.98%\n",
      "\tValidation Loss: 0.36 Accuracy: 87.30%\n",
      "16/20\n",
      "\tTraining Loss: 0.29 Accuracy: 92.22%\n",
      "\tValidation Loss: 0.35 Accuracy: 87.32%\n",
      "17/20\n",
      "\tTraining Loss: 0.29 Accuracy: 92.34%\n",
      "\tValidation Loss: 0.35 Accuracy: 87.32%\n",
      "18/20\n",
      "\tTraining Loss: 0.28 Accuracy: 92.51%\n",
      "\tValidation Loss: 0.35 Accuracy: 87.42%\n",
      "19/20\n",
      "\tTraining Loss: 0.28 Accuracy: 92.66%\n",
      "\tValidation Loss: 0.35 Accuracy: 87.43%\n",
      "20/20\n",
      "\tTraining Loss: 0.27 Accuracy: 92.74%\n",
      "\tValidation Loss: 0.34 Accuracy: 87.43%\n"
     ]
    }
   ],
   "source": [
    "import copy\n",
    "\n",
    "# History of training\n",
    "history = {\n",
    "  'epoch': [],\n",
    "  'train': { 'loss': [], 'accuracy': [] },\n",
    "  'val': { 'loss': [], 'accuracy': [] }\n",
    "}\n",
    "\n",
    "# Number of epochs to train\n",
    "EPOCHS = 20\n",
    "best_accuracy = 0.0\n",
    "best_model = model\n",
    "\n",
    "for epoch in range(EPOCHS):\n",
    "    train_loss, train_accuracy = run_epoch(\n",
    "        model, train_iter,\n",
    "        mode='train',\n",
    "        loss_fn=loss_fn,\n",
    "        optimizer=optimizer,\n",
    "        preprocess_fn=data_preprocess,\n",
    "        performance_fn=running_loss_accuracy,\n",
    "        device=device\n",
    "    )\n",
    "    val_loss, val_accuracy = run_epoch(\n",
    "        model, val_iter,\n",
    "        mode='eval',\n",
    "        loss_fn=loss_fn,\n",
    "        preprocess_fn=data_preprocess,\n",
    "        performance_fn=running_loss_accuracy,\n",
    "        device=device\n",
    "    )\n",
    "    # Save the best model\n",
    "    if val_accuracy >= best_accuracy:\n",
    "        best_model = copy.deepcopy(model)\n",
    "\n",
    "    # Record the history\n",
    "    history['epoch'].append(epoch+1)  # 0-indexed\n",
    "    history['train']['loss'].append(train_loss)\n",
    "    history['train']['accuracy'].append(train_accuracy)\n",
    "    history['val']['loss'].append(val_loss)\n",
    "    history['val']['accuracy'].append(val_accuracy)\n",
    "\n",
    "    print(\"{}/{}\\n\\tTraining Loss: {:.2f} Accuracy: {:.2%}\\n\\tValidation Loss: {:.2f} Accuracy: {:.2%}\".format(\n",
    "        history['epoch'][-1], EPOCHS,\n",
    "        history['train']['loss'][-1], history['train']['accuracy'][-1],\n",
    "        history['val']['loss'][-1], history['val']['accuracy'][-1],\n",
    "    ))"
   ]
  },
  {
   "cell_type": "code",
   "execution_count": 16,
   "metadata": {},
   "outputs": [
    {
     "data": {
      "image/png": "[encoded data removed]",
      "text/plain": [
       "<Figure size 900x400 with 2 Axes>"
      ]
     },
     "metadata": {},
     "output_type": "display_data"
    }
   ],
   "source": [
    "epochs = history['epoch']\n",
    "train_loss = history['train']['loss']\n",
    "train_acc = history['train']['accuracy']\n",
    "val_loss = history['val']['loss']\n",
    "val_acc = history['val']['accuracy']\n",
    "\n",
    "fig, ax = plt.subplots(1, 2, figsize=(9, 4), sharex=True)\n",
    "\n",
    "ax[0].plot(epochs, train_loss, 'o', label='Training')\n",
    "ax[0].plot(epochs, val_loss, label='Validation')\n",
    "ax[1].plot(epochs, train_acc, 'o', label='Training')\n",
    "ax[1].plot(epochs, val_acc, label='Validation')\n",
    "\n",
    "ax[0].set_xlabel(\"Epoch\")\n",
    "ax[0].set_ylabel(\"Loss\")\n",
    "ax[1].set_xlabel(\"Epoch\")\n",
    "ax[1].set_ylabel(\"Accuracy\")\n",
    "\n",
    "ax[0].grid()\n",
    "ax[1].grid()\n",
    "\n",
    "ax[0].legend(loc='best')\n",
    "\n",
    "plt.tight_layout()"
   ]
  },
  {
   "cell_type": "code",
   "execution_count": 17,
   "metadata": {},
   "outputs": [
    {
     "name": "stdout",
     "output_type": "stream",
     "text": [
      "Maximum accuracy\n",
      "\ttraining: 92.74%\n",
      "\tvalidation: 87.43%\n",
      "Minimum loss\n",
      "\ttraining: 0.27\n",
      "\tvalidation: 0.34\n"
     ]
    }
   ],
   "source": [
    "max_train_accuracy = np.max(history['train']['accuracy'])\n",
    "min_train_loss = np.min(history['train']['loss'])\n",
    "max_val_accuracy = np.max(history['val']['accuracy'])\n",
    "min_val_loss = np.min(history['val']['loss'])\n",
    "\n",
    "print('Maximum accuracy')\n",
    "print(f'\\ttraining: {max_train_accuracy:.2%}')\n",
    "print(f'\\tvalidation: {max_val_accuracy:.2%}')\n",
    "print('Minimum loss')\n",
    "print(f'\\ttraining: {min_train_loss:.2f}')\n",
    "print(f'\\tvalidation: {min_val_loss:.2f}')"
   ]
  },
  {
   "cell_type": "markdown",
   "metadata": {},
   "source": [
    "**Checkpoint Assignment**\n",
    "\n",
    "Redesign the architecture to have more layers. For example, try the following architecture:\n",
    "\n",
    "$$\\begin{align}\n",
    "X\n",
    "& \\Rightarrow \\text{Linear(10000, 16)} \\\\\n",
    "& \\Rightarrow \\text{ReLU()} \\\\\n",
    "& \\Rightarrow \\text{Linear(16, 16)} \\\\\n",
    "& \\Rightarrow \\text{ReLU()} \\\\\n",
    "& \\Rightarrow \\text{Linear(16, 1)} \\\\\n",
    "& \\Rightarrow \\text{Sigmoid()} \\\\\n",
    "& \\Rightarrow Y\n",
    "\\end{align}$$\n",
    "\n",
    "After retraining it, your results should be similar to\n",
    "\n",
    "```console\n",
    "Maximum accuracy\n",
    "\ttraining: 99.22%\n",
    "\tvalidation: 88.56%\n",
    "Minimum loss\n",
    "\ttraining: 0.05\n",
    "\tvalidation: 0.29\n",
    "```"
   ]
  },
  {
   "cell_type": "markdown",
   "metadata": {},
   "source": [
    "## Evaluating the model\n",
    "\n",
    "Model is now trained, and ready to classify the sentiment of completely new reviews. Although you could use the previously untouched test_data, let us write our own review."
   ]
  },
  {
   "cell_type": "code",
   "execution_count": 18,
   "metadata": {},
   "outputs": [
    {
     "name": "stdout",
     "output_type": "stream",
     "text": [
      "Zafar's review is 55.11% positive\n"
     ]
    }
   ],
   "source": [
    "# 0. Prepare the model for inference :)\n",
    "inference_model = best_model.to('cpu')\n",
    "inference_model.eval()\n",
    "\n",
    "zafars_review = \"This is one of the baddest moviews I have seen. Director John Doe managed to capture both the historical context as well as the character absurdity. I would absolutely dub this movie as a masterpiece. However, there were some scenes that were subpar, and did grind my gears. Overall, however, it is a great watch for both old and young.\"\n",
    "\n",
    "# 1. Convert to lower case\n",
    "zafars_review_lower = zafars_review.lower()\n",
    "\n",
    "# 2. Split into words\n",
    "zafars_review_split = zafars_review_lower.split()\n",
    "\n",
    "# 3. Convert to numerical vectors:\n",
    "zafars_review_numerical = TEXT.numericalize([zafars_review_split])\n",
    "\n",
    "# 4. One-Hot encode the review\n",
    "zafars_review_onehot = vectorize_sequences(zafars_review_numerical)\n",
    "\n",
    "# 5. Predict\n",
    "zafars_sentiment = inference_model(zafars_review_onehot)\n",
    "\n",
    "print(\"Zafar's review is {:.2%} positive\".format(zafars_sentiment.item()))"
   ]
  },
  {
   "cell_type": "markdown",
   "metadata": {},
   "source": [
    "### More to do\n",
    "\n",
    "Play with the codes that you covered in this section. Try the following\n",
    "\n",
    "1. Try more (or less) hidden layers in the network. See how it changes the training, validation, and test accuracy.\n",
    "2. Try increasing the number of units per layer. Instead of using 16, try 32 or 64 units.\n",
    "3. Rewrite the codes to use `MSELoss` instead of the `BCELoss`\n",
    "4. Try different types of activation. One candidate is to use `Tanh()` instead of `ReLU()`\n",
    "5. You might need to change the learning rate for some of the parameters."
   ]
  },
  {
   "cell_type": "code",
   "execution_count": null,
   "metadata": {},
   "outputs": [],
   "source": []
  }
 ],
 "metadata": {
  "kernelspec": {
   "display_name": "Python 3",
   "language": "python",
   "name": "python3"
  },
  "language_info": {
   "codemirror_mode": {
    "name": "ipython",
    "version": 3
   },
   "file_extension": ".py",
   "mimetype": "text/x-python",
   "name": "python",
   "nbconvert_exporter": "python",
   "pygments_lexer": "ipython3",
   "version": "3.7.5"
  }
 },
 "nbformat": 4,
 "nbformat_minor": 4
}
