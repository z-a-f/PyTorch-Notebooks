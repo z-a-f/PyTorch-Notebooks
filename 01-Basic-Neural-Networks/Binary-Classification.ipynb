{
 "cells": [
  {
   "cell_type": "markdown",
   "metadata": {},
   "source": [
    "<div align=\"center\">\n",
    "    <a href=\"https://colab.research.google.com/github/z-a-f/PyTorch-Notebooks/blob/master/01-Basic-Neural-Networks/Binary-Classification.ipynb\" style=\"text-align:center\">Open in Colab\n",
    "        <img src=\"https://colab.research.google.com/img/colab_favicon.ico\" width=64/>\n",
    "    </a>\n",
    "</div>"
   ]
  },
  {
   "cell_type": "code",
   "execution_count": 3,
   "metadata": {},
   "outputs": [],
   "source": [
    "%matplotlib inline\n",
    "\n",
    "import matplotlib.pyplot as plt\n",
    "import numpy as np"
   ]
  },
  {
   "cell_type": "markdown",
   "metadata": {},
   "source": [
    "# Binary Classification: Classifying Movie Reviews"
   ]
  },
  {
   "cell_type": "markdown",
   "metadata": {},
   "source": [
    "In this section you will cover binary classification, which is one of the most widely applied kind of ML problem. For that purpose you will use IMDB dataset <sup>$\\dagger$</sup>, which is a collection of moview reviews, with the reviews being either positive or negative. The classification task is to predict the sentiment of the review.\n",
    "\n",
    "---\n",
    "<small><sup>$\\dagger$</sup>Andrew L. Maas, Raymond E. Daly, Peter T. Pham, Dan Huang, Andrew Y. Ng, and Christopher Potts. (2011). **Learning Word Vectors for Sentiment Analysis**. *The 49th Annual Meeting of the Association for Computational Linguistics (ACL 2011)*.</small>"
   ]
  },
  {
   "cell_type": "markdown",
   "metadata": {},
   "source": [
    "## IMDB Dataset\n",
    "\n",
    "IMDB dataset is a set of 50,000 polarized movie reviews. The dataset is split into two equal parts of 25,000 reviews, one for training and another for testing. At the same time the every subset has equal number of positive and negative reviews.\n",
    "\n",
    "The reason for separating the dataset into two parts (train and test), is to avoid “memorization”. Imagine that your network is very powerful, and after seeing 50,000 reviews, it was able to memorize all of them. You will get 100% accuracy for any example in that dataset. However, when presented with the examples never seen before, such a network will fail. Separating the data into train and test sets allows us to train on one part of the data, and check the accuracy on the other.\n",
    "\n",
    "To load the dataset, you will use the TorchText. Note that the dataset will download ~80 MB of data, and exapand into ~0.5GB."
   ]
  }
 ],
 "metadata": {
  "kernelspec": {
   "display_name": "Python 3",
   "language": "python",
   "name": "python3"
  },
  "language_info": {
   "codemirror_mode": {
    "name": "ipython",
    "version": 3
   },
   "file_extension": ".py",
   "mimetype": "text/x-python",
   "name": "python",
   "nbconvert_exporter": "python",
   "pygments_lexer": "ipython3",
   "version": "3.7.5"
  }
 },
 "nbformat": 4,
 "nbformat_minor": 4
}
